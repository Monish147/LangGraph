{
 "cells": [
  {
   "cell_type": "code",
   "execution_count": 5,
   "metadata": {},
   "outputs": [],
   "source": [
    "%%capture --no-stderr\n",
    "%pip install -U langgraph langsmith langchain-groq"
   ]
  },
  {
   "cell_type": "markdown",
   "metadata": {},
   "source": [
    "%pip install -U:\n",
    "\n",
    "    %pip: The magic version of the pip command, which ensures the installation happens in the same environment the notebook is using.\n",
    "    -U: Stands for \"upgrade\"; it installs the latest versions of the specified packages."
   ]
  },
  {
   "cell_type": "markdown",
   "metadata": {},
   "source": [
    "### State\n",
    "- This where all the agents pass the information in the graph network.\n",
    "- Each agent may just use the state variables or alter it according to the requirements"
   ]
  },
  {
   "cell_type": "code",
   "execution_count": 1,
   "metadata": {},
   "outputs": [],
   "source": [
    "from typing import Annotated\n",
    "\n",
    "from typing_extensions import TypedDict\n",
    "\n",
    "from langgraph.graph import StateGraph, START, END\n",
    "from langgraph.graph.message import add_messages\n",
    "\n",
    "\n",
    "class State(TypedDict):\n",
    "    # Messages have the type \"list\". The `add_messages` function\n",
    "    # in the annotation defines how this state key should be updated\n",
    "    # (in this case, it appends messages to the list, rather than overwriting them)\n",
    "    messages: Annotated[list, add_messages]\n",
    "\n",
    "\n",
    "graph_builder = StateGraph(State)"
   ]
  },
  {
   "cell_type": "code",
   "execution_count": null,
   "metadata": {},
   "outputs": [],
   "source": [
    "from langchain_groq import ChatGroq\n",
    "\n",
    "llm = ChatGroq(\n",
    "    model=\"llama-3.1-70b-versatile\",\n",
    "    temperature=1,\n",
    "    max_tokens=None,\n",
    "    timeout=None,\n",
    "    max_retries=2,\n",
    ")\n",
    "\n",
    "\n",
    "def chatbot(state: State):\n",
    "    return {\"messages\": [llm.invoke(state[\"messages\"])]}\n"
   ]
  },
  {
   "cell_type": "markdown",
   "metadata": {},
   "source": [
    "### Adding Graph Nodes"
   ]
  },
  {
   "cell_type": "code",
   "execution_count": 3,
   "metadata": {},
   "outputs": [
    {
     "data": {
      "text/plain": [
       "<langgraph.graph.state.StateGraph at 0x7f1b966d2360>"
      ]
     },
     "execution_count": 3,
     "metadata": {},
     "output_type": "execute_result"
    }
   ],
   "source": [
    "\n",
    "# The first argument is the unique node name\n",
    "# The second argument is the function or object that will be called whenever\n",
    "# the node is used.\n",
    "graph_builder.add_node(\"chatbot\", chatbot)"
   ]
  },
  {
   "cell_type": "markdown",
   "metadata": {},
   "source": [
    "### Adding Grpah edges"
   ]
  },
  {
   "cell_type": "code",
   "execution_count": 4,
   "metadata": {},
   "outputs": [
    {
     "data": {
      "text/plain": [
       "<langgraph.graph.state.StateGraph at 0x7f1b966d2360>"
      ]
     },
     "execution_count": 4,
     "metadata": {},
     "output_type": "execute_result"
    }
   ],
   "source": [
    "graph_builder.add_edge(START, \"chatbot\")\n",
    "graph_builder.add_edge(\"chatbot\", END)"
   ]
  },
  {
   "cell_type": "code",
   "execution_count": 5,
   "metadata": {},
   "outputs": [],
   "source": [
    "graph = graph_builder.compile()"
   ]
  },
  {
   "cell_type": "markdown",
   "metadata": {},
   "source": [
    "### visualizing the Graph"
   ]
  },
  {
   "cell_type": "code",
   "execution_count": 6,
   "metadata": {},
   "outputs": [
    {
     "data": {
      "image/png": "[encoded data removed]",
      "text/plain": [
       "<IPython.core.display.Image object>"
      ]
     },
     "metadata": {},
     "output_type": "display_data"
    }
   ],
   "source": [
    "from IPython.display import Image, display\n",
    "\n",
    "try:\n",
    "    display(Image(graph.get_graph().draw_mermaid_png()))\n",
    "except Exception:\n",
    "    # This requires some extra dependencies and is optional\n",
    "    pass"
   ]
  },
  {
   "cell_type": "markdown",
   "metadata": {},
   "source": [
    "### Now let's run the chatbot!\n",
    "\n",
    "- Tip: You can exit the chat loop at any time by typing \"quit\", \"exit\", or \"q\"."
   ]
  },
  {
   "cell_type": "code",
   "execution_count": 7,
   "metadata": {},
   "outputs": [],
   "source": [
    "def stream_graph_updates(user_input: str):\n",
    "    for event in graph.stream({\"messages\": [(\"user\", user_input)]}):\n",
    "        for value in event.values():\n",
    "            print(\"Assistant:\", value[\"messages\"][-1].content)\n"
   ]
  },
  {
   "cell_type": "code",
   "execution_count": 8,
   "metadata": {},
   "outputs": [
    {
     "name": "stdout",
     "output_type": "stream",
     "text": [
      "Assistant: It seems like you haven't asked a question yet. If you have any questions or need assistance, feel free to ask.\n",
      "Assistant: It seems like you haven't asked a question yet. What would you like to know or discuss? I'm here to help.\n",
      "Assistant: Writing good code involves a combination of design principles, coding techniques, and best practices. Here are some tips to help you write high-quality code:\n",
      "\n",
      "1. **Follow the DRY principle (Don't Repeat Yourself)**: Avoid duplicating code by extracting common logic into reusable functions or classes.\n",
      "2. **Use meaningful variable names**: Choose names that accurately describe the variable's purpose and are easy to read.\n",
      "3. **Keep it simple and concise**: Break down complex logic into smaller, manageable pieces, and simplify code where possible.\n",
      "4. **Use functions and modules**: Organize code into logical functions and modules to improve reusability and maintainability.\n",
      "5. **Optimize for readability**: Use whitespace, indentation, and line breaks to make code easy to read and understand.\n",
      "6. **Use comments and documentation**: Explain complex logic and algorithms with clear, concise comments and docstrings.\n",
      "7. **Test thoroughly**: Write comprehensive unit tests and integration tests to ensure code works as intended.\n",
      "8. **Follow coding standards and conventions**: Adhere to industry-standard coding styles and naming conventions to ensure consistency and readability.\n",
      "9. **Refactor regularly**: Continuously review and refine code to eliminate duplication and improve performance.\n",
      "10. **Use version control**: Track changes and collaborate with others using version control systems like Git.\n",
      "\n",
      "**Additional best practices:**\n",
      "\n",
      "* Use singular nouns for variable names\n",
      "* Use capitalized words for constants\n",
      "* Avoid global variables\n",
      "* Use functions to hide internal implementation details\n",
      "* Use templates or object-oriented programming for data storage and manipulation\n",
      "* Keep database queries efficient and optimized\n",
      "* Use logical operators instead of implicit conversions\n",
      "* Use exception handling to manage errors and edge cases\n",
      "* Follow naming conventions for functions and methods (e.g., camelCase or underscore notation)\n",
      "\n",
      "**Code organization and structure:**\n",
      "\n",
      "1. **Keep related code together**: Organize code into logical sections or modules.\n",
      "2. **Use a consistent folder structure**: Organize code into directories and subdirectories with clear, descriptive names.\n",
      "3. **Use clear and descriptive file names**: Choose file names that accurately reflect the code's purpose.\n",
      "4. **Use a main index file**: Create a primary entry point for the application.\n",
      "\n",
      "**Performance optimization:**\n",
      "\n",
      "1. **Use caching and memoization**: Store frequently accessed data in memory or cache to reduce database queries.\n",
      "2. **Optimize database queries**: Use efficient query methods and indexing to reduce database latency.\n",
      "3. **Use just-in-time compilation**: Compile code into native machine code to improve performance.\n",
      "4. **Avoid unnecessary computations**: Eliminate redundant calculations by storing intermediate results.\n",
      "\n",
      "By following these guidelines, you can write high-quality code that is maintainable, efficient, and easy to understand.\n",
      "\n",
      "### Example of good code in Python\n",
      "\n",
      "Here's an example of a simple calculator class that follows good coding practices:\n",
      "```python\n",
      "# calculator.py\n",
      "\n",
      "class Calculator:\n",
      "    \"\"\"Simple arithmetic calculator.\"\"\"\n",
      "\n",
      "    def add(self, a: int, b: int) -> int:\n",
      "        \"\"\"Add two numbers together.\"\"\"\n",
      "        result = a + b\n",
      "        return result\n",
      "\n",
      "    def subtract(self, a: int, b: int) -> int:\n",
      "        \"\"\"Subtract one number from another.\"\"\"\n",
      "        result = a - b\n",
      "        return result\n",
      "\n",
      "    def multiply(self, a: int, b: int) -> int:\n",
      "        \"\"\"Multiply two numbers together.\"\"\"\n",
      "        result = a * b\n",
      "        return result\n",
      "\n",
      "    def divide(self, a: int, b: int) -> float:\n",
      "        \"\"\"Divide one number by another.\"\"\"\n",
      "        if b == 0:\n",
      "            raise ValueError(\"Cannot divide by zero!\")\n",
      "        result = a / b\n",
      "        return result\n",
      "\n",
      "def main():\n",
      "    calc = Calculator()\n",
      "    num1 = 10\n",
      "    num2 = 2\n",
      "    result = calc.add(num1, num2)\n",
      "    print(f\"{num1} + {num2} = {result}\")\n",
      "\n",
      "if __name__ == \"__main__\":\n",
      "    main()\n",
      "```\n",
      "This example uses:\n",
      "\n",
      "* Clear and descriptive variable names\n",
      "* Comments and docstrings to explain code logic\n",
      "* A consistent coding style and naming conventions\n",
      "* Functions and methods to organize code and improve reusability\n",
      "* Error handling for edge cases\n",
      "\n",
      "Note that this is just a simple example, but it demonstrates the principles and practices that you can apply to write high-quality code in Python.\n",
      "Goodbye!\n"
     ]
    }
   ],
   "source": [
    "\n",
    "while True:\n",
    "    try:\n",
    "        user_input = input(\"User: \")\n",
    "        if user_input.lower() in [\"quit\", \"exit\", \"q\"]:\n",
    "            print(\"Goodbye!\")\n",
    "            break\n",
    "\n",
    "        stream_graph_updates(user_input)\n",
    "    except:\n",
    "        # fallback if input() is not available\n",
    "        user_input = \"What do you know about LangGraph?\"\n",
    "        print(\"User: \" + user_input)\n",
    "        stream_graph_updates(user_input)\n",
    "        break"
   ]
  },
  {
   "cell_type": "code",
   "execution_count": null,
   "metadata": {},
   "outputs": [],
   "source": []
  }
 ],
 "metadata": {
  "kernelspec": {
   "display_name": "langGraph",
   "language": "python",
   "name": "python3"
  },
  "language_info": {
   "codemirror_mode": {
    "name": "ipython",
    "version": 3
   },
   "file_extension": ".py",
   "mimetype": "text/x-python",
   "name": "python",
   "nbconvert_exporter": "python",
   "pygments_lexer": "ipython3",
   "version": "3.12.8"
  }
 },
 "nbformat": 4,
 "nbformat_minor": 2
}
